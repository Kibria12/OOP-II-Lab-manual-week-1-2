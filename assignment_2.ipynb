{
  "nbformat": 4,
  "nbformat_minor": 0,
  "metadata": {
    "colab": {
      "name": "assignment 2",
      "provenance": [],
      "authorship_tag": "ABX9TyMSbBJnwjrlDqEwbCYhZTv5",
      "include_colab_link": true
    },
    "kernelspec": {
      "name": "python3",
      "display_name": "Python 3"
    }
  },
  "cells": [
    {
      "cell_type": "markdown",
      "metadata": {
        "id": "view-in-github",
        "colab_type": "text"
      },
      "source": [
        "<a href=\"https://colab.research.google.com/github/Kibria12/OOP-II-Lab-manual-week-1-2/blob/master/assignment_2.ipynb\" target=\"_parent\"><img src=\"https://colab.research.google.com/assets/colab-badge.svg\" alt=\"Open In Colab\"/></a>"
      ]
    },
    {
      "cell_type": "code",
      "metadata": {
        "id": "SSYRxi4N1RPq",
        "outputId": "40447f6a-79b9-4928-dc64-326a805e7400",
        "colab": {
          "base_uri": "https://localhost:8080/"
        }
      },
      "source": [
        "class Calculator:\n",
        "    def add(self,num1,num2):\n",
        "        return num1+num2\n",
        "    def sub(self,num1,num2):\n",
        "        return num1-num2\n",
        "    def mul(self,num1,num2):\n",
        "        return num1*num2\n",
        "    def div(self,num1,num2):\n",
        "        try:\n",
        "            num1/num2\n",
        "        except:\n",
        "            print(\"Division not possible\")\n",
        "obj = Calculator()\n",
        "num1 = float(input(\"Enter First Number: \"))\n",
        "num2 = float(input(\"Enter Second Number: \"))\n",
        "\n",
        "print(\"( + , - , * , / )\")\n",
        "opt = input(\"Choose a Operation: \")\n",
        "if opt=='+':\n",
        "    result = obj.add(num1,num2)\n",
        "elif opt=='-':\n",
        "    result = obj.sub(num1,num2)\n",
        "elif opt=='*':\n",
        "    result = obj.mul(num1,num2)\n",
        "elif opt=='/':\n",
        "    result = obj.div(num1,num2)\n",
        "\n",
        "print(\"result = \",result)"
      ],
      "execution_count": 2,
      "outputs": [
        {
          "output_type": "stream",
          "text": [
            "Enter First Number: 7\n",
            "Enter Second Number: 9\n",
            "( + , - , * , / )\n",
            "Choose a Operation: *\n",
            "result =  63.0\n"
          ],
          "name": "stdout"
        }
      ]
    }
  ]
}